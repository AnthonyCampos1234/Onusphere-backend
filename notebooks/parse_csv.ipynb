{
 "cells": [
  {
   "cell_type": "code",
   "execution_count": null,
   "id": "9e68d62f",
   "metadata": {},
   "outputs": [
    {
     "name": "stdout",
     "output_type": "stream",
     "text": [
      "    WH            Origin_Name      Origin_Address1      Origin_Address2  \\\n",
      "0  727  Shorr Pkg Corp - York  825 Locust Point Rd  c/o Moran Logistics   \n",
      "1  727  Shorr Pkg Corp - York  825 Locust Point Rd  c/o Moran Logistics   \n",
      "2  727  Shorr Pkg Corp - York  825 Locust Point Rd  c/o Moran Logistics   \n",
      "3  727  Shorr Pkg Corp - York  825 Locust Point Rd  c/o Moran Logistics   \n",
      "4  727  Shorr Pkg Corp - York  825 Locust Point Rd  c/o Moran Logistics   \n",
      "\n",
      "  Origin_Address3 Origin_City Origin_State  Origin_Zip  \\\n",
      "0             NaN        York           PA  17406-6010   \n",
      "1             NaN        York           PA  17406-6010   \n",
      "2             NaN        York           PA  17406-6010   \n",
      "3             NaN        York           PA  17406-6010   \n",
      "4             NaN        York           PA  17406-6010   \n",
      "\n",
      "                Shipping_Method  SCAC  ...  \\\n",
      "0  Ship from Store Common Carri  COMM  ...   \n",
      "1  Ship from Store Common Carri  COMM  ...   \n",
      "2  Ship from Store Common Carri  COMM  ...   \n",
      "3  Ship from Store Common Carri  COMM  ...   \n",
      "4  Ship from Store Common Carri  COMM  ...   \n",
      "\n",
      "                                Description  Qty_Ord UOM  Stk_Qty_Ordered  \\\n",
      "0     020 9x6-1/4x3-5/8 RSC 32B Kraft 1C/2P  14400.0  EA          14400.0   \n",
      "1              S5/040 11-3/16x6-15/16x5-1/8  12800.0  EA          12800.0   \n",
      "2  064 12-11/16x9x5-5/8 RSC 32B Kraft 1C/4P  12000.0  EA          12000.0   \n",
      "3            S6/099 13-7/8x10-11/16x6-11/16  14400.0  EA          14400.0   \n",
      "4                 123 20-3/16x13-3/16x4-5/8   6000.0  EA           6000.0   \n",
      "\n",
      "   STK_UOM Ext_Item_Weight LTL_Class  Accessorial_Code EDI_Line_  \\\n",
      "0       EA            3600     125.0               NaN         1   \n",
      "1       EA            4296     100.0               NaN         2   \n",
      "2       EA            6000     125.0               NaN         3   \n",
      "3       EA            9126     100.0               NaN         4   \n",
      "4       EA            5400     125.0               NaN         5   \n",
      "\n",
      "  Special_Project  \n",
      "0             NaN  \n",
      "1             NaN  \n",
      "2             NaN  \n",
      "3             NaN  \n",
      "4             NaN  \n",
      "\n",
      "[5 rows x 39 columns]\n"
     ]
    }
   ],
   "source": [
    "import pandas as pd\n",
    "\n",
    "df = pd.read_csv(\"../data/example_order.csv\")\n",
    "\n",
    "print(df.head())"
   ]
  }
 ],
 "metadata": {
  "kernelspec": {
   "display_name": ".venv",
   "language": "python",
   "name": "python3"
  },
  "language_info": {
   "codemirror_mode": {
    "name": "ipython",
    "version": 3
   },
   "file_extension": ".py",
   "mimetype": "text/x-python",
   "name": "python",
   "nbconvert_exporter": "python",
   "pygments_lexer": "ipython3",
   "version": "3.13.2"
  }
 },
 "nbformat": 4,
 "nbformat_minor": 5
}
